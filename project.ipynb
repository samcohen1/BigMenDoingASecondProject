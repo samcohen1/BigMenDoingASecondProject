{
 "cells": [
  {
   "cell_type": "code",
   "execution_count": 503,
   "metadata": {},
   "outputs": [],
   "source": [
    "# This Python 3 environment comes with many helpful analytics libraries installed\n",
    "# It is defined by the kaggle/python Docker image: https://github.com/kaggle/docker-python\n",
    "# For example, here's several helpful packages to load\n",
    "\n",
    "import numpy as np # linear algebra\n",
    "import pandas as pd # data processing, CSV file I/O (e.g. pd.read_csv)\n",
    "from scipy import stats\n",
    "import matplotlib.pyplot as plt\n",
    "import seaborn as sns\n",
    "from sklearn.preprocessing import MinMaxScaler\n",
    "from sklearn.neighbors import KNeighborsRegressor\n",
    "from sklearn.linear_model import LinearRegression\n",
    "from sklearn.preprocessing import OneHotEncoder\n",
    "from sklearn.model_selection import GridSearchCV\n",
    "from sklearn.model_selection import RandomizedSearchCV\n",
    "from sklearn.model_selection import train_test_split\n",
    "from sklearn.preprocessing import StandardScaler\n",
    "from sklearn.compose import ColumnTransformer\n",
    "from sklearn.pipeline import Pipeline\n",
    "from sklearn.impute import SimpleImputer\n",
    "from sklearn.preprocessing import OrdinalEncoder\n",
    "from sklearn import decomposition\n",
    "from sklearn.metrics import mean_squared_error\n",
    "from math import sqrt\n",
    "from sklearn.neighbors import KNeighborsRegressor\n",
    "from sklearn.ensemble import RandomForestClassifier\n",
    "from sklearn.metrics import accuracy_score\n",
    "from sklearn.model_selection import KFold\n",
    "from sklearn.base import clone\n",
    "from sklearn.model_selection import cross_val_score\n",
    "from sklearn.model_selection import cross_val_predict\n",
    "from sklearn.base import BaseEstimator, TransformerMixin\n",
    "from sklearn.metrics import classification_report\n",
    "from sklearn.ensemble import RandomForestClassifier\n",
    "import warnings\n",
    "\n",
    "# Suppress warning\n",
    "warnings.filterwarnings(\"ignore\", category=DeprecationWarning)\n",
    "warnings.filterwarnings(\"ignore\", category=DeprecationWarning)\n",
    "warnings.filterwarnings(\"ignore\", category=RuntimeWarning)\n",
    "warnings.filterwarnings(\"ignore\", category=UserWarning)"
   ]
  },
  {
   "cell_type": "markdown",
   "metadata": {},
   "source": [
    "# Read In Data"
   ]
  },
  {
   "cell_type": "code",
   "execution_count": 504,
   "metadata": {},
   "outputs": [
    {
     "data": {
      "text/html": [
       "<div>\n",
       "<style scoped>\n",
       "    .dataframe tbody tr th:only-of-type {\n",
       "        vertical-align: middle;\n",
       "    }\n",
       "\n",
       "    .dataframe tbody tr th {\n",
       "        vertical-align: top;\n",
       "    }\n",
       "\n",
       "    .dataframe thead th {\n",
       "        text-align: right;\n",
       "    }\n",
       "</style>\n",
       "<table border=\"1\" class=\"dataframe\">\n",
       "  <thead>\n",
       "    <tr style=\"text-align: right;\">\n",
       "      <th></th>\n",
       "      <th>PassengerId</th>\n",
       "      <th>HomePlanet</th>\n",
       "      <th>CryoSleep</th>\n",
       "      <th>Cabin</th>\n",
       "      <th>Destination</th>\n",
       "      <th>Age</th>\n",
       "      <th>VIP</th>\n",
       "      <th>RoomService</th>\n",
       "      <th>FoodCourt</th>\n",
       "      <th>ShoppingMall</th>\n",
       "      <th>Spa</th>\n",
       "      <th>VRDeck</th>\n",
       "      <th>Name</th>\n",
       "      <th>Transported</th>\n",
       "    </tr>\n",
       "  </thead>\n",
       "  <tbody>\n",
       "    <tr>\n",
       "      <th>0</th>\n",
       "      <td>0001_01</td>\n",
       "      <td>Europa</td>\n",
       "      <td>False</td>\n",
       "      <td>B/0/P</td>\n",
       "      <td>TRAPPIST-1e</td>\n",
       "      <td>39.0</td>\n",
       "      <td>False</td>\n",
       "      <td>0.0</td>\n",
       "      <td>0.0</td>\n",
       "      <td>0.0</td>\n",
       "      <td>0.0</td>\n",
       "      <td>0.0</td>\n",
       "      <td>Maham Ofracculy</td>\n",
       "      <td>False</td>\n",
       "    </tr>\n",
       "    <tr>\n",
       "      <th>1</th>\n",
       "      <td>0002_01</td>\n",
       "      <td>Earth</td>\n",
       "      <td>False</td>\n",
       "      <td>F/0/S</td>\n",
       "      <td>TRAPPIST-1e</td>\n",
       "      <td>24.0</td>\n",
       "      <td>False</td>\n",
       "      <td>109.0</td>\n",
       "      <td>9.0</td>\n",
       "      <td>25.0</td>\n",
       "      <td>549.0</td>\n",
       "      <td>44.0</td>\n",
       "      <td>Juanna Vines</td>\n",
       "      <td>True</td>\n",
       "    </tr>\n",
       "    <tr>\n",
       "      <th>2</th>\n",
       "      <td>0003_01</td>\n",
       "      <td>Europa</td>\n",
       "      <td>False</td>\n",
       "      <td>A/0/S</td>\n",
       "      <td>TRAPPIST-1e</td>\n",
       "      <td>58.0</td>\n",
       "      <td>True</td>\n",
       "      <td>43.0</td>\n",
       "      <td>3576.0</td>\n",
       "      <td>0.0</td>\n",
       "      <td>6715.0</td>\n",
       "      <td>49.0</td>\n",
       "      <td>Altark Susent</td>\n",
       "      <td>False</td>\n",
       "    </tr>\n",
       "    <tr>\n",
       "      <th>3</th>\n",
       "      <td>0003_02</td>\n",
       "      <td>Europa</td>\n",
       "      <td>False</td>\n",
       "      <td>A/0/S</td>\n",
       "      <td>TRAPPIST-1e</td>\n",
       "      <td>33.0</td>\n",
       "      <td>False</td>\n",
       "      <td>0.0</td>\n",
       "      <td>1283.0</td>\n",
       "      <td>371.0</td>\n",
       "      <td>3329.0</td>\n",
       "      <td>193.0</td>\n",
       "      <td>Solam Susent</td>\n",
       "      <td>False</td>\n",
       "    </tr>\n",
       "    <tr>\n",
       "      <th>4</th>\n",
       "      <td>0004_01</td>\n",
       "      <td>Earth</td>\n",
       "      <td>False</td>\n",
       "      <td>F/1/S</td>\n",
       "      <td>TRAPPIST-1e</td>\n",
       "      <td>16.0</td>\n",
       "      <td>False</td>\n",
       "      <td>303.0</td>\n",
       "      <td>70.0</td>\n",
       "      <td>151.0</td>\n",
       "      <td>565.0</td>\n",
       "      <td>2.0</td>\n",
       "      <td>Willy Santantines</td>\n",
       "      <td>True</td>\n",
       "    </tr>\n",
       "  </tbody>\n",
       "</table>\n",
       "</div>"
      ],
      "text/plain": [
       "  PassengerId HomePlanet CryoSleep  Cabin  Destination   Age    VIP  \\\n",
       "0     0001_01     Europa     False  B/0/P  TRAPPIST-1e  39.0  False   \n",
       "1     0002_01      Earth     False  F/0/S  TRAPPIST-1e  24.0  False   \n",
       "2     0003_01     Europa     False  A/0/S  TRAPPIST-1e  58.0   True   \n",
       "3     0003_02     Europa     False  A/0/S  TRAPPIST-1e  33.0  False   \n",
       "4     0004_01      Earth     False  F/1/S  TRAPPIST-1e  16.0  False   \n",
       "\n",
       "   RoomService  FoodCourt  ShoppingMall     Spa  VRDeck               Name  \\\n",
       "0          0.0        0.0           0.0     0.0     0.0    Maham Ofracculy   \n",
       "1        109.0        9.0          25.0   549.0    44.0       Juanna Vines   \n",
       "2         43.0     3576.0           0.0  6715.0    49.0      Altark Susent   \n",
       "3          0.0     1283.0         371.0  3329.0   193.0       Solam Susent   \n",
       "4        303.0       70.0         151.0   565.0     2.0  Willy Santantines   \n",
       "\n",
       "   Transported  \n",
       "0        False  \n",
       "1         True  \n",
       "2        False  \n",
       "3        False  \n",
       "4         True  "
      ]
     },
     "execution_count": 504,
     "metadata": {},
     "output_type": "execute_result"
    }
   ],
   "source": [
    "# Reading in the training data\n",
    "train_df = pd.read_csv('train.csv')\n",
    "test_df = pd.read_csv('test.csv')\n",
    "\n",
    "# remove id columns from both\n",
    "test_ids = test_df['PassengerId']\n",
    "\n",
    "# print the train_df head\n",
    "train_df.head()"
   ]
  },
  {
   "cell_type": "code",
   "execution_count": 505,
   "metadata": {},
   "outputs": [],
   "source": [
    "# Isolate target 'Transported'\n",
    "target = train_df['Transported']\n",
    "train_df.drop(columns = ['Transported'], inplace = True)"
   ]
  },
  {
   "cell_type": "code",
   "execution_count": 506,
   "metadata": {},
   "outputs": [
    {
     "data": {
      "image/png": "[encoded data removed]",
      "text/plain": [
       "<Figure size 640x480 with 1 Axes>"
      ]
     },
     "metadata": {},
     "output_type": "display_data"
    }
   ],
   "source": [
    "# plot hist\n",
    "def plot_transported():\n",
    "    fig, ax = plt.subplots()\n",
    "    sns.distplot(target, ax=ax, kde=False)\n",
    "    ax.set_title(\"Distribution of Transported\")\n",
    "    \n",
    "# target\n",
    "plot_transported()"
   ]
  },
  {
   "cell_type": "markdown",
   "metadata": {},
   "source": [
    "# Concatonating Train and Test"
   ]
  },
  {
   "cell_type": "code",
   "execution_count": 507,
   "metadata": {},
   "outputs": [],
   "source": [
    "# Joining each train and test counterpart df\n",
    "def concat_dataframes(df_1, df_2):\n",
    "    df_1_copy = df_1.copy()  # Work on a copy to avoid SettingWithCopyWarning\n",
    "    df_2_copy = df_2.copy()  # Work on a copy to avoid SettingWithCopyWarning\n",
    "    \n",
    "    df_1_copy['From_df_1'] = True\n",
    "    df_2_copy['From_df_1'] = False\n",
    "    \n",
    "    # Concatenate the dataframes\n",
    "    return pd.concat([df_1_copy, df_2_copy], ignore_index=True)"
   ]
  },
  {
   "cell_type": "code",
   "execution_count": 508,
   "metadata": {},
   "outputs": [],
   "source": [
    "# seperate train and test\n",
    "def get_seperate_dataframes(concatenated_df):\n",
    "    df_1 = concatenated_df[concatenated_df['From_df_1'] == True].drop(columns=['From_df_1'])\n",
    "    df_2 = concatenated_df[concatenated_df['From_df_1'] == False].drop(columns=['From_df_1'])\n",
    "    \n",
    "    return df_1, df_2"
   ]
  },
  {
   "cell_type": "code",
   "execution_count": 509,
   "metadata": {},
   "outputs": [],
   "source": [
    "# concat\n",
    "all_df = concat_dataframes(train_df, test_df)"
   ]
  },
  {
   "cell_type": "code",
   "execution_count": 510,
   "metadata": {},
   "outputs": [],
   "source": [
    "# convert bools to ints\n",
    "bool_columns = all_df.select_dtypes(include=['bool']).columns\n",
    "all_df[bool_columns] = all_df[bool_columns].astype(int)"
   ]
  },
  {
   "cell_type": "markdown",
   "metadata": {},
   "source": [
    "# Preliminary Feature Engineering"
   ]
  },
  {
   "cell_type": "code",
   "execution_count": 511,
   "metadata": {},
   "outputs": [],
   "source": [
    "# First, lets separate the data in the cabin column into it's respective pieces of data\n",
    "cabin_split = all_df['Cabin'].str.split('/', expand=True)\n",
    "cabin_split.columns = ['Deck', 'Room_Number', 'Side']\n",
    "new_df = pd.concat([all_df, cabin_split], axis=1)\n",
    "all_df = new_df\n",
    "all_df.drop(columns=['Cabin'], inplace=True)\n",
    "all_df['Room_Number'] = all_df['Room_Number']"
   ]
  },
  {
   "cell_type": "code",
   "execution_count": 512,
   "metadata": {},
   "outputs": [
    {
     "data": {
      "text/html": [
       "<div>\n",
       "<style scoped>\n",
       "    .dataframe tbody tr th:only-of-type {\n",
       "        vertical-align: middle;\n",
       "    }\n",
       "\n",
       "    .dataframe tbody tr th {\n",
       "        vertical-align: top;\n",
       "    }\n",
       "\n",
       "    .dataframe thead th {\n",
       "        text-align: right;\n",
       "    }\n",
       "</style>\n",
       "<table border=\"1\" class=\"dataframe\">\n",
       "  <thead>\n",
       "    <tr style=\"text-align: right;\">\n",
       "      <th></th>\n",
       "      <th>HomePlanet</th>\n",
       "      <th>CryoSleep</th>\n",
       "      <th>Destination</th>\n",
       "      <th>Age</th>\n",
       "      <th>VIP</th>\n",
       "      <th>RoomService</th>\n",
       "      <th>FoodCourt</th>\n",
       "      <th>ShoppingMall</th>\n",
       "      <th>Spa</th>\n",
       "      <th>VRDeck</th>\n",
       "      <th>Name</th>\n",
       "      <th>From_df_1</th>\n",
       "      <th>Deck</th>\n",
       "      <th>Room_Number</th>\n",
       "      <th>Side</th>\n",
       "      <th>GroupId</th>\n",
       "    </tr>\n",
       "  </thead>\n",
       "  <tbody>\n",
       "    <tr>\n",
       "      <th>0</th>\n",
       "      <td>Europa</td>\n",
       "      <td>False</td>\n",
       "      <td>TRAPPIST-1e</td>\n",
       "      <td>39.0</td>\n",
       "      <td>False</td>\n",
       "      <td>0.0</td>\n",
       "      <td>0.0</td>\n",
       "      <td>0.0</td>\n",
       "      <td>0.0</td>\n",
       "      <td>0.0</td>\n",
       "      <td>Maham Ofracculy</td>\n",
       "      <td>1</td>\n",
       "      <td>B</td>\n",
       "      <td>0</td>\n",
       "      <td>P</td>\n",
       "      <td>1</td>\n",
       "    </tr>\n",
       "    <tr>\n",
       "      <th>1</th>\n",
       "      <td>Earth</td>\n",
       "      <td>False</td>\n",
       "      <td>TRAPPIST-1e</td>\n",
       "      <td>24.0</td>\n",
       "      <td>False</td>\n",
       "      <td>109.0</td>\n",
       "      <td>9.0</td>\n",
       "      <td>25.0</td>\n",
       "      <td>549.0</td>\n",
       "      <td>44.0</td>\n",
       "      <td>Juanna Vines</td>\n",
       "      <td>1</td>\n",
       "      <td>F</td>\n",
       "      <td>0</td>\n",
       "      <td>S</td>\n",
       "      <td>2</td>\n",
       "    </tr>\n",
       "    <tr>\n",
       "      <th>2</th>\n",
       "      <td>Europa</td>\n",
       "      <td>False</td>\n",
       "      <td>TRAPPIST-1e</td>\n",
       "      <td>58.0</td>\n",
       "      <td>True</td>\n",
       "      <td>43.0</td>\n",
       "      <td>3576.0</td>\n",
       "      <td>0.0</td>\n",
       "      <td>6715.0</td>\n",
       "      <td>49.0</td>\n",
       "      <td>Altark Susent</td>\n",
       "      <td>1</td>\n",
       "      <td>A</td>\n",
       "      <td>0</td>\n",
       "      <td>S</td>\n",
       "      <td>3</td>\n",
       "    </tr>\n",
       "    <tr>\n",
       "      <th>3</th>\n",
       "      <td>Europa</td>\n",
       "      <td>False</td>\n",
       "      <td>TRAPPIST-1e</td>\n",
       "      <td>33.0</td>\n",
       "      <td>False</td>\n",
       "      <td>0.0</td>\n",
       "      <td>1283.0</td>\n",
       "      <td>371.0</td>\n",
       "      <td>3329.0</td>\n",
       "      <td>193.0</td>\n",
       "      <td>Solam Susent</td>\n",
       "      <td>1</td>\n",
       "      <td>A</td>\n",
       "      <td>0</td>\n",
       "      <td>S</td>\n",
       "      <td>3</td>\n",
       "    </tr>\n",
       "    <tr>\n",
       "      <th>4</th>\n",
       "      <td>Earth</td>\n",
       "      <td>False</td>\n",
       "      <td>TRAPPIST-1e</td>\n",
       "      <td>16.0</td>\n",
       "      <td>False</td>\n",
       "      <td>303.0</td>\n",
       "      <td>70.0</td>\n",
       "      <td>151.0</td>\n",
       "      <td>565.0</td>\n",
       "      <td>2.0</td>\n",
       "      <td>Willy Santantines</td>\n",
       "      <td>1</td>\n",
       "      <td>F</td>\n",
       "      <td>1</td>\n",
       "      <td>S</td>\n",
       "      <td>4</td>\n",
       "    </tr>\n",
       "  </tbody>\n",
       "</table>\n",
       "</div>"
      ],
      "text/plain": [
       "  HomePlanet CryoSleep  Destination   Age    VIP  RoomService  FoodCourt  \\\n",
       "0     Europa     False  TRAPPIST-1e  39.0  False          0.0        0.0   \n",
       "1      Earth     False  TRAPPIST-1e  24.0  False        109.0        9.0   \n",
       "2     Europa     False  TRAPPIST-1e  58.0   True         43.0     3576.0   \n",
       "3     Europa     False  TRAPPIST-1e  33.0  False          0.0     1283.0   \n",
       "4      Earth     False  TRAPPIST-1e  16.0  False        303.0       70.0   \n",
       "\n",
       "   ShoppingMall     Spa  VRDeck               Name  From_df_1 Deck  \\\n",
       "0           0.0     0.0     0.0    Maham Ofracculy          1    B   \n",
       "1          25.0   549.0    44.0       Juanna Vines          1    F   \n",
       "2           0.0  6715.0    49.0      Altark Susent          1    A   \n",
       "3         371.0  3329.0   193.0       Solam Susent          1    A   \n",
       "4         151.0   565.0     2.0  Willy Santantines          1    F   \n",
       "\n",
       "  Room_Number Side  GroupId  \n",
       "0           0    P        1  \n",
       "1           0    S        2  \n",
       "2           0    S        3  \n",
       "3           0    S        3  \n",
       "4           1    S        4  "
      ]
     },
     "execution_count": 512,
     "metadata": {},
     "output_type": "execute_result"
    }
   ],
   "source": [
    "# Passenger ID into group ID\n",
    "id_split = all_df['PassengerId'].str.split('_', expand=True)\n",
    "id_split.columns = ['GroupId', \"Index\"]\n",
    "new_df = pd.concat([all_df, id_split], axis=1)\n",
    "all_df = new_df\n",
    "all_df.drop(columns=['PassengerId', 'Index'], inplace=True)\n",
    "all_df['GroupId'] = all_df['GroupId'].astype(int)\n",
    "\n",
    "train_df.drop(columns=['PassengerId'])\n",
    "test_df.drop(columns=['PassengerId'])\n",
    "\n",
    "all_df.head()"
   ]
  },
  {
   "cell_type": "code",
   "execution_count": 513,
   "metadata": {},
   "outputs": [
    {
     "data": {
      "text/html": [
       "<div>\n",
       "<style scoped>\n",
       "    .dataframe tbody tr th:only-of-type {\n",
       "        vertical-align: middle;\n",
       "    }\n",
       "\n",
       "    .dataframe tbody tr th {\n",
       "        vertical-align: top;\n",
       "    }\n",
       "\n",
       "    .dataframe thead th {\n",
       "        text-align: right;\n",
       "    }\n",
       "</style>\n",
       "<table border=\"1\" class=\"dataframe\">\n",
       "  <thead>\n",
       "    <tr style=\"text-align: right;\">\n",
       "      <th></th>\n",
       "      <th>HomePlanet</th>\n",
       "      <th>CryoSleep</th>\n",
       "      <th>Destination</th>\n",
       "      <th>Age</th>\n",
       "      <th>VIP</th>\n",
       "      <th>RoomService</th>\n",
       "      <th>FoodCourt</th>\n",
       "      <th>ShoppingMall</th>\n",
       "      <th>Spa</th>\n",
       "      <th>VRDeck</th>\n",
       "      <th>Name</th>\n",
       "      <th>From_df_1</th>\n",
       "      <th>Deck</th>\n",
       "      <th>Room_Number</th>\n",
       "      <th>Side</th>\n",
       "      <th>GroupId</th>\n",
       "      <th>TotalSpend</th>\n",
       "    </tr>\n",
       "  </thead>\n",
       "  <tbody>\n",
       "    <tr>\n",
       "      <th>0</th>\n",
       "      <td>Europa</td>\n",
       "      <td>False</td>\n",
       "      <td>TRAPPIST-1e</td>\n",
       "      <td>39.0</td>\n",
       "      <td>False</td>\n",
       "      <td>0.0</td>\n",
       "      <td>0.0</td>\n",
       "      <td>0.0</td>\n",
       "      <td>0.0</td>\n",
       "      <td>0.0</td>\n",
       "      <td>Maham Ofracculy</td>\n",
       "      <td>1</td>\n",
       "      <td>B</td>\n",
       "      <td>0</td>\n",
       "      <td>P</td>\n",
       "      <td>1</td>\n",
       "      <td>0.0</td>\n",
       "    </tr>\n",
       "    <tr>\n",
       "      <th>1</th>\n",
       "      <td>Earth</td>\n",
       "      <td>False</td>\n",
       "      <td>TRAPPIST-1e</td>\n",
       "      <td>24.0</td>\n",
       "      <td>False</td>\n",
       "      <td>109.0</td>\n",
       "      <td>9.0</td>\n",
       "      <td>25.0</td>\n",
       "      <td>549.0</td>\n",
       "      <td>44.0</td>\n",
       "      <td>Juanna Vines</td>\n",
       "      <td>1</td>\n",
       "      <td>F</td>\n",
       "      <td>0</td>\n",
       "      <td>S</td>\n",
       "      <td>2</td>\n",
       "      <td>736.0</td>\n",
       "    </tr>\n",
       "    <tr>\n",
       "      <th>2</th>\n",
       "      <td>Europa</td>\n",
       "      <td>False</td>\n",
       "      <td>TRAPPIST-1e</td>\n",
       "      <td>58.0</td>\n",
       "      <td>True</td>\n",
       "      <td>43.0</td>\n",
       "      <td>3576.0</td>\n",
       "      <td>0.0</td>\n",
       "      <td>6715.0</td>\n",
       "      <td>49.0</td>\n",
       "      <td>Altark Susent</td>\n",
       "      <td>1</td>\n",
       "      <td>A</td>\n",
       "      <td>0</td>\n",
       "      <td>S</td>\n",
       "      <td>3</td>\n",
       "      <td>10383.0</td>\n",
       "    </tr>\n",
       "    <tr>\n",
       "      <th>3</th>\n",
       "      <td>Europa</td>\n",
       "      <td>False</td>\n",
       "      <td>TRAPPIST-1e</td>\n",
       "      <td>33.0</td>\n",
       "      <td>False</td>\n",
       "      <td>0.0</td>\n",
       "      <td>1283.0</td>\n",
       "      <td>371.0</td>\n",
       "      <td>3329.0</td>\n",
       "      <td>193.0</td>\n",
       "      <td>Solam Susent</td>\n",
       "      <td>1</td>\n",
       "      <td>A</td>\n",
       "      <td>0</td>\n",
       "      <td>S</td>\n",
       "      <td>3</td>\n",
       "      <td>5176.0</td>\n",
       "    </tr>\n",
       "    <tr>\n",
       "      <th>4</th>\n",
       "      <td>Earth</td>\n",
       "      <td>False</td>\n",
       "      <td>TRAPPIST-1e</td>\n",
       "      <td>16.0</td>\n",
       "      <td>False</td>\n",
       "      <td>303.0</td>\n",
       "      <td>70.0</td>\n",
       "      <td>151.0</td>\n",
       "      <td>565.0</td>\n",
       "      <td>2.0</td>\n",
       "      <td>Willy Santantines</td>\n",
       "      <td>1</td>\n",
       "      <td>F</td>\n",
       "      <td>1</td>\n",
       "      <td>S</td>\n",
       "      <td>4</td>\n",
       "      <td>1091.0</td>\n",
       "    </tr>\n",
       "  </tbody>\n",
       "</table>\n",
       "</div>"
      ],
      "text/plain": [
       "  HomePlanet CryoSleep  Destination   Age    VIP  RoomService  FoodCourt  \\\n",
       "0     Europa     False  TRAPPIST-1e  39.0  False          0.0        0.0   \n",
       "1      Earth     False  TRAPPIST-1e  24.0  False        109.0        9.0   \n",
       "2     Europa     False  TRAPPIST-1e  58.0   True         43.0     3576.0   \n",
       "3     Europa     False  TRAPPIST-1e  33.0  False          0.0     1283.0   \n",
       "4      Earth     False  TRAPPIST-1e  16.0  False        303.0       70.0   \n",
       "\n",
       "   ShoppingMall     Spa  VRDeck               Name  From_df_1 Deck  \\\n",
       "0           0.0     0.0     0.0    Maham Ofracculy          1    B   \n",
       "1          25.0   549.0    44.0       Juanna Vines          1    F   \n",
       "2           0.0  6715.0    49.0      Altark Susent          1    A   \n",
       "3         371.0  3329.0   193.0       Solam Susent          1    A   \n",
       "4         151.0   565.0     2.0  Willy Santantines          1    F   \n",
       "\n",
       "  Room_Number Side  GroupId  TotalSpend  \n",
       "0           0    P        1         0.0  \n",
       "1           0    S        2       736.0  \n",
       "2           0    S        3     10383.0  \n",
       "3           0    S        3      5176.0  \n",
       "4           1    S        4      1091.0  "
      ]
     },
     "execution_count": 513,
     "metadata": {},
     "output_type": "execute_result"
    }
   ],
   "source": [
    "# Adding a TotalSpending feature\n",
    "all_df['TotalSpend'] = all_df['RoomService'] + all_df['FoodCourt'] + all_df['ShoppingMall'] + all_df['Spa'] + all_df['VRDeck']\n",
    "all_df.head()"
   ]
  },
  {
   "cell_type": "markdown",
   "metadata": {},
   "source": [
    "# Preliminary Data Investigation"
   ]
  },
  {
   "cell_type": "markdown",
   "metadata": {},
   "source": [
    "Seperating data Types"
   ]
  },
  {
   "cell_type": "code",
   "execution_count": 514,
   "metadata": {},
   "outputs": [
    {
     "name": "stdout",
     "output_type": "stream",
     "text": [
      "Index(['HomePlanet', 'CryoSleep', 'Destination', 'VIP', 'Deck', 'Side'], dtype='object')\n",
      "Index(['Age', 'RoomService', 'FoodCourt', 'ShoppingMall', 'Spa', 'VRDeck',\n",
      "       'From_df_1', 'GroupId', 'TotalSpend', 'Room_Number'],\n",
      "      dtype='object')\n"
     ]
    }
   ],
   "source": [
    "#Break all_data into categorical and numerical dataframes\n",
    "categorical_df = all_df.select_dtypes(include=['object', 'bool'])\n",
    "numerical_df = all_df.select_dtypes(include=['int64', 'float64'])\n",
    "\n",
    "##Remove Name and Room_Number from categorical_df\n",
    "numerical_df['Room_Number'] = categorical_df['Room_Number']\n",
    "categorical_df = categorical_df.drop(columns=['Name', 'Room_Number'])\n",
    "\n",
    "print(categorical_df.columns)\n",
    "print(numerical_df.columns)"
   ]
  },
  {
   "cell_type": "code",
   "execution_count": 515,
   "metadata": {},
   "outputs": [],
   "source": [
    "# Plotting bar graphs to inspect categorical data      ---------> Should come sooner \n",
    "# List of feature names in the DataFrame\n",
    "# feature_names = categorical_df.columns.tolist()\n",
    "\n",
    "# # Number of rows/columns for the subplot grid\n",
    "# n_rows = len(feature_names) // 3 + (len(feature_names) % 3 > 0)\n",
    "# n_cols = 3\n",
    "\n",
    "# # Create a subplot grid\n",
    "# plt.figure(figsize=(20, n_rows * 5))  # Adjust the size as needed\n",
    "\n",
    "# for i, feature_name in enumerate(feature_names):\n",
    "#     ax = plt.subplot(n_rows, n_cols, i + 1)\n",
    "#     # Generate a countplot\n",
    "#     sns_plot = sns.countplot(x=feature_name, data=categorical_df, \n",
    "#                              palette=\"tab20\", ax=ax)\n",
    "#     plt.xticks(rotation=45)  # Rotate x-axis labels for better readability\n",
    "#     plt.title(feature_name)\n",
    "\n",
    "#     # Add counts above bars\n",
    "#     for p in sns_plot.patches:\n",
    "#         sns_plot.annotate(format(p.get_height(), '.0f'), \n",
    "#                           (p.get_x() + p.get_width() / 2., p.get_height()), \n",
    "#                           ha = 'center', va = 'center', \n",
    "#                           xytext = (0, 10), \n",
    "#                           textcoords = 'offset points')\n",
    "\n",
    "# plt.tight_layout()\n",
    "# plt.show()"
   ]
  },
  {
   "cell_type": "code",
   "execution_count": 516,
   "metadata": {},
   "outputs": [],
   "source": [
    "# all feature pair plot\n",
    "def plot_all_field_relationships(df):\n",
    "    # Handle categorical data: Convert to numeric codes for correlation analysis (optional)\n",
    "    # This step is simplistic and may not be meaningful for non-ordinal categories.\n",
    "    df_numeric = df.copy()\n",
    "    for col in df_numeric.select_dtypes(include=['object', 'bool']).columns:\n",
    "        df_numeric[col] = df_numeric[col].astype('category').cat.codes\n",
    "\n",
    "    # Pair Plot for numeric fields (considering the whole DataFrame may be too much, so focus on key fields)\n",
    "    # Selecting a subset of fields if necessary due to the broad scope and to avoid overwhelming plots\n",
    "    numeric_cols = df_numeric.select_dtypes(include=[np.number]).columns\n",
    "    if len(numeric_cols) > 10:  # limiting to first 10 numeric columns to keep the plot readable\n",
    "        numeric_cols = numeric_cols[:10]\n",
    "    sns.pairplot(df_numeric[numeric_cols], corner=True)\n",
    "    plt.suptitle('Pairwise relationships of Numeric Features', y=1.02)\n",
    "    plt.show()\n",
    "\n",
    "# plot_all_field_relationships(train_df)"
   ]
  },
  {
   "cell_type": "markdown",
   "metadata": {},
   "source": [
    "# Eliminating Nans"
   ]
  },
  {
   "cell_type": "code",
   "execution_count": 517,
   "metadata": {},
   "outputs": [
    {
     "data": {
      "text/plain": [
       "HomePlanet       288\n",
       "CryoSleep        310\n",
       "Destination      274\n",
       "Age              270\n",
       "VIP              296\n",
       "RoomService      263\n",
       "FoodCourt        289\n",
       "ShoppingMall     306\n",
       "Spa              284\n",
       "VRDeck           268\n",
       "Name             294\n",
       "From_df_1          0\n",
       "Deck             299\n",
       "Room_Number      299\n",
       "Side             299\n",
       "GroupId            0\n",
       "TotalSpend      1363\n",
       "dtype: int64"
      ]
     },
     "execution_count": 517,
     "metadata": {},
     "output_type": "execute_result"
    }
   ],
   "source": [
    "# Initial missing values\n",
    "all_df.isna().sum()"
   ]
  },
  {
   "cell_type": "markdown",
   "metadata": {},
   "source": [
    "HomePlanet"
   ]
  },
  {
   "cell_type": "code",
   "execution_count": 518,
   "metadata": {},
   "outputs": [
    {
     "name": "stdout",
     "output_type": "stream",
     "text": [
      "Series([], Name: HomePlanet, dtype: int64)\n"
     ]
    }
   ],
   "source": [
    "# check homeplanet group dependencies\n",
    "planets = all_df.groupby(['GroupId'])['HomePlanet'].nunique()\n",
    "planets = planets[planets > 1]\n",
    "print(planets)"
   ]
  },
  {
   "cell_type": "code",
   "execution_count": 519,
   "metadata": {},
   "outputs": [],
   "source": [
    "# impute Room_Number, Deck, Side Based on Family\n",
    "\n",
    "# Define the columns to impute and the group column\n",
    "columns_to_impute = ['HomePlanet']\n",
    "group_column = 'GroupId'\n",
    "\n",
    "# Calculate the mode for each column within each GroupId\n",
    "# We loop over each column to impute since pd.Series.mode() might return multiple values\n",
    "for column in columns_to_impute:\n",
    "    # Compute the mode for the current column grouped by GroupId\n",
    "    mode_series = all_df.groupby(group_column)[column].apply(lambda x: pd.Series.mode(x.dropna()).iloc[0] if not x.dropna().empty else np.NaN)\n",
    "    \n",
    "    # Convert the Series into a DataFrame with a reset index, naming the columns appropriately\n",
    "    mode_df = mode_series.reset_index(name=f'{column}_mode')\n",
    "    \n",
    "    # Merge the mode values back into the original DataFrame\n",
    "    all_df = pd.merge(all_df, mode_df, on=group_column, how='left')\n",
    "    \n",
    "    # Impute missing values in the original column with the mode values\n",
    "    all_df[column] = np.where(all_df[column].isna(), all_df[f'{column}_mode'], all_df[column])\n",
    "    \n",
    "    # Drop the temporary mode column used for imputation\n",
    "    all_df.drop(columns=[f'{column}_mode'], inplace=True)"
   ]
  },
  {
   "cell_type": "code",
   "execution_count": 520,
   "metadata": {},
   "outputs": [],
   "source": [
    "# checking deck homeplanet dependencies\n",
    "# plt.figure(figsize=(12, 6))\n",
    "# sns.countplot(data=all_df, x='Deck', hue='HomePlanet', palette='Set2')\n",
    "# plt.title('Counts of Deck for each HomePlanet')\n",
    "# plt.xlabel('Deck')\n",
    "# plt.ylabel('Count')\n",
    "# plt.xticks(rotation=45)  # Rotate labels to improve readability if necessary\n",
    "# plt.legend(title='HomePlanet', bbox_to_anchor=(1.05, 1), loc='upper left')  # Place legend outside the plot\n",
    "# plt.tight_layout()  # Adjust layout to make room for the rotated x-axis labels and legend\n",
    "# plt.show()"
   ]
  },
  {
   "cell_type": "code",
   "execution_count": 521,
   "metadata": {},
   "outputs": [],
   "source": [
    "impute_columns = ['HomePlanet']\n",
    "earth_decks = (all_df['Deck'] == 'G')\n",
    "europa_decks = (all_df['Deck'] == 'B') | (all_df['Deck'] == 'A') | (all_df['Deck'] == 'T') | (all_df['Deck'] == 'C')\n",
    "all_df.loc[earth_decks, impute_columns] = all_df.loc[earth_decks, impute_columns].fillna('Earth')\n",
    "all_df.loc[europa_decks, impute_columns] = all_df.loc[europa_decks, impute_columns].fillna('Europa')"
   ]
  },
  {
   "cell_type": "code",
   "execution_count": 522,
   "metadata": {},
   "outputs": [
    {
     "data": {
      "image/png": "[encoded data removed]",
      "text/plain": [
       "<Figure size 1200x600 with 1 Axes>"
      ]
     },
     "metadata": {},
     "output_type": "display_data"
    }
   ],
   "source": [
    "plt.figure(figsize=(12, 6))\n",
    "sns.countplot(data=all_df, x='HomePlanet', hue='Destination', palette='Set2')\n",
    "plt.title('Counts of Deck for each HomePlanet')\n",
    "plt.xlabel('Deck')\n",
    "plt.ylabel('Count')\n",
    "plt.xticks(rotation=45)  # Rotate labels to improve readability if necessary\n",
    "plt.legend(title='Destination', bbox_to_anchor=(1.05, 1), loc='upper left')  # Place legend outside the plot\n",
    "plt.tight_layout()  # Adjust layout to make room for the rotated x-axis labels and legend\n",
    "plt.show()"
   ]
  },
  {
   "cell_type": "code",
   "execution_count": 523,
   "metadata": {},
   "outputs": [],
   "source": [
    "impute_columns = ['HomePlanet']\n",
    "to_pso = (all_df['Destination'] == 'PSO J318.5-22')\n",
    "all_df.loc[to_pso, impute_columns] = all_df.loc[to_pso, impute_columns].fillna('Earth')"
   ]
  },
  {
   "cell_type": "markdown",
   "metadata": {},
   "source": [
    "Room_Number"
   ]
  },
  {
   "cell_type": "code",
   "execution_count": 524,
   "metadata": {},
   "outputs": [
    {
     "name": "stdout",
     "output_type": "stream",
     "text": [
      "Series([], Name: Room_Number, dtype: int64)\n"
     ]
    }
   ],
   "source": [
    "# check grouppID room number dependencies\n",
    "room_counts_family = all_df.groupby(['GroupId'])['Room_Number'].nunique()\n",
    "multiple_rooms_family = room_counts_family[room_counts_family > 3]\n",
    "print(multiple_rooms_family)"
   ]
  },
  {
   "cell_type": "code",
   "execution_count": 525,
   "metadata": {},
   "outputs": [],
   "source": [
    "# impute Room_Number, Deck, Side Based on Family\n",
    "\n",
    "# Define the columns to impute and the group column\n",
    "columns_to_impute = ['Room_Number', 'Deck', 'Side']\n",
    "group_column = 'GroupId'\n",
    "\n",
    "# Calculate the mode for each column within each GroupId\n",
    "# We loop over each column to impute since pd.Series.mode() might return multiple values\n",
    "for column in columns_to_impute:\n",
    "    # Compute the mode for the current column grouped by GroupId\n",
    "    mode_series = all_df.groupby(group_column)[column].apply(lambda x: pd.Series.mode(x.dropna()).iloc[0] if not x.dropna().empty else np.NaN)\n",
    "    \n",
    "    # Convert the Series into a DataFrame with a reset index, naming the columns appropriately\n",
    "    mode_df = mode_series.reset_index(name=f'{column}_mode')\n",
    "    \n",
    "    # Merge the mode values back into the original DataFrame\n",
    "    all_df = pd.merge(all_df, mode_df, on=group_column, how='left')\n",
    "    \n",
    "    # Impute missing values in the original column with the mode values\n",
    "    all_df[column] = np.where(all_df[column].isna(), all_df[f'{column}_mode'], all_df[column])\n",
    "    \n",
    "    # Drop the temporary mode column used for imputation\n",
    "    all_df.drop(columns=[f'{column}_mode'], inplace=True)"
   ]
  },
  {
   "cell_type": "markdown",
   "metadata": {},
   "source": [
    "CryoSleep Nans"
   ]
  },
  {
   "cell_type": "code",
   "execution_count": 526,
   "metadata": {},
   "outputs": [
    {
     "data": {
      "text/html": [
       "<div>\n",
       "<style scoped>\n",
       "    .dataframe tbody tr th:only-of-type {\n",
       "        vertical-align: middle;\n",
       "    }\n",
       "\n",
       "    .dataframe tbody tr th {\n",
       "        vertical-align: top;\n",
       "    }\n",
       "\n",
       "    .dataframe thead th {\n",
       "        text-align: right;\n",
       "    }\n",
       "</style>\n",
       "<table border=\"1\" class=\"dataframe\">\n",
       "  <thead>\n",
       "    <tr style=\"text-align: right;\">\n",
       "      <th></th>\n",
       "      <th>HomePlanet</th>\n",
       "      <th>Destination</th>\n",
       "      <th>Age</th>\n",
       "      <th>VIP</th>\n",
       "      <th>RoomService</th>\n",
       "      <th>FoodCourt</th>\n",
       "      <th>ShoppingMall</th>\n",
       "      <th>Spa</th>\n",
       "      <th>VRDeck</th>\n",
       "      <th>Name</th>\n",
       "      <th>From_df_1</th>\n",
       "      <th>Deck</th>\n",
       "      <th>Room_Number</th>\n",
       "      <th>Side</th>\n",
       "      <th>GroupId</th>\n",
       "      <th>TotalSpend</th>\n",
       "    </tr>\n",
       "    <tr>\n",
       "      <th>CryoSleep</th>\n",
       "      <th></th>\n",
       "      <th></th>\n",
       "      <th></th>\n",
       "      <th></th>\n",
       "      <th></th>\n",
       "      <th></th>\n",
       "      <th></th>\n",
       "      <th></th>\n",
       "      <th></th>\n",
       "      <th></th>\n",
       "      <th></th>\n",
       "      <th></th>\n",
       "      <th></th>\n",
       "      <th></th>\n",
       "      <th></th>\n",
       "      <th></th>\n",
       "    </tr>\n",
       "  </thead>\n",
       "  <tbody>\n",
       "    <tr>\n",
       "      <th>False</th>\n",
       "      <td>3</td>\n",
       "      <td>1</td>\n",
       "      <td>43</td>\n",
       "      <td>2</td>\n",
       "      <td>1</td>\n",
       "      <td>1</td>\n",
       "      <td>1</td>\n",
       "      <td>1</td>\n",
       "      <td>1</td>\n",
       "      <td>126</td>\n",
       "      <td>2</td>\n",
       "      <td>7</td>\n",
       "      <td>114</td>\n",
       "      <td>2</td>\n",
       "      <td>129</td>\n",
       "      <td>1</td>\n",
       "    </tr>\n",
       "    <tr>\n",
       "      <th>True</th>\n",
       "      <td>3</td>\n",
       "      <td>3</td>\n",
       "      <td>64</td>\n",
       "      <td>2</td>\n",
       "      <td>1</td>\n",
       "      <td>1</td>\n",
       "      <td>1</td>\n",
       "      <td>1</td>\n",
       "      <td>1</td>\n",
       "      <td>3410</td>\n",
       "      <td>2</td>\n",
       "      <td>7</td>\n",
       "      <td>1367</td>\n",
       "      <td>2</td>\n",
       "      <td>3070</td>\n",
       "      <td>1</td>\n",
       "    </tr>\n",
       "  </tbody>\n",
       "</table>\n",
       "</div>"
      ],
      "text/plain": [
       "           HomePlanet  Destination  Age  VIP  RoomService  FoodCourt  \\\n",
       "CryoSleep                                                              \n",
       "False               3            1   43    2            1          1   \n",
       "True                3            3   64    2            1          1   \n",
       "\n",
       "           ShoppingMall  Spa  VRDeck  Name  From_df_1  Deck  Room_Number  \\\n",
       "CryoSleep                                                                  \n",
       "False                 1    1       1   126          2     7          114   \n",
       "True                  1    1       1  3410          2     7         1367   \n",
       "\n",
       "           Side  GroupId  TotalSpend  \n",
       "CryoSleep                             \n",
       "False         2      129           1  \n",
       "True          2     3070           1  "
      ]
     },
     "execution_count": 526,
     "metadata": {},
     "output_type": "execute_result"
    }
   ],
   "source": [
    "# check cryosleep dependencies\n",
    "temp_df = all_df.copy()\n",
    "true_cond = (temp_df['RoomService'] == 0) & (temp_df['VRDeck'] == 0) & (temp_df['FoodCourt'] == 0) & (temp_df['ShoppingMall'] == 0) & (temp_df['Spa'] == 0) & (temp_df['Age'] >= 13)\n",
    "false_cond = (temp_df['RoomService'] > 0) | (temp_df['VRDeck'] > 0) | (temp_df['FoodCourt'] > 0) | (temp_df['ShoppingMall'] > 0) | (temp_df['Spa'] > 0)\n",
    "temp_df = temp_df[true_cond]\n",
    "temp_df.groupby(['CryoSleep']).nunique()"
   ]
  },
  {
   "cell_type": "code",
   "execution_count": 527,
   "metadata": {},
   "outputs": [
    {
     "name": "stderr",
     "output_type": "stream",
     "text": [
      "/var/folders/j2/y1m1q6t11d519nvnr32nrmcc0000gn/T/ipykernel_35442/2284948886.py:1: FutureWarning: Downcasting object dtype arrays on .fillna, .ffill, .bfill is deprecated and will change in a future version. Call result.infer_objects(copy=False) instead. To opt-in to the future behavior, set `pd.set_option('future.no_silent_downcasting', True)`\n",
      "  all_df.loc[true_cond, ['CryoSleep']] = all_df.loc[true_cond, ['CryoSleep']].fillna(True)\n",
      "/var/folders/j2/y1m1q6t11d519nvnr32nrmcc0000gn/T/ipykernel_35442/2284948886.py:2: FutureWarning: Downcasting object dtype arrays on .fillna, .ffill, .bfill is deprecated and will change in a future version. Call result.infer_objects(copy=False) instead. To opt-in to the future behavior, set `pd.set_option('future.no_silent_downcasting', True)`\n",
      "  all_df.loc[false_cond, ['CryoSleep']] = all_df.loc[false_cond, ['CryoSleep']].fillna(False)\n"
     ]
    }
   ],
   "source": [
    "all_df.loc[true_cond, ['CryoSleep']] = all_df.loc[true_cond, ['CryoSleep']].fillna(True)\n",
    "all_df.loc[false_cond, ['CryoSleep']] = all_df.loc[false_cond, ['CryoSleep']].fillna(False)"
   ]
  },
  {
   "cell_type": "markdown",
   "metadata": {},
   "source": [
    "VIP Nans"
   ]
  },
  {
   "cell_type": "code",
   "execution_count": 528,
   "metadata": {},
   "outputs": [],
   "source": [
    "# checking underaged VIPs\n",
    "vip_age = all_df.groupby(['Age'])['VIP'].mean()\n",
    "# vip_age.head(20)"
   ]
  },
  {
   "cell_type": "code",
   "execution_count": 529,
   "metadata": {},
   "outputs": [],
   "source": [
    "# impute vips based on underaged\n",
    "impute_columns = ['VIP']\n",
    "under_aged = (all_df['Age'] < 18)\n",
    "all_df.loc[under_aged, impute_columns] = all_df.loc[under_aged, impute_columns].fillna(0)"
   ]
  },
  {
   "cell_type": "code",
   "execution_count": 530,
   "metadata": {},
   "outputs": [],
   "source": [
    "vip_home = all_df.groupby(['HomePlanet'])['VIP'].mean()\n",
    "# vip_home.head(20)"
   ]
  },
  {
   "cell_type": "code",
   "execution_count": 531,
   "metadata": {},
   "outputs": [],
   "source": [
    "impute_columns = ['VIP']\n",
    "from_earth = (all_df['HomePlanet'] == 'Earth')\n",
    "all_df.loc[from_earth, impute_columns] = all_df.loc[from_earth, impute_columns].fillna(False)"
   ]
  },
  {
   "cell_type": "code",
   "execution_count": 532,
   "metadata": {},
   "outputs": [],
   "source": [
    "# plt.figure(figsize=(12, 6))\n",
    "# sns.countplot(data=all_df, x='CryoSleep', hue='Deck', palette='Set2')\n",
    "# plt.title('Counts of Deck for each HomePlanet')\n",
    "# plt.xlabel('Deck')\n",
    "# plt.ylabel('Count')\n",
    "# plt.xticks(rotation=45)  # Rotate labels to improve readability if necessary\n",
    "# plt.legend(title='HomePlanet', bbox_to_anchor=(1.05, 1), loc='upper left')  # Place legend outside the plot\n",
    "# plt.tight_layout()  # Adjust layout to make room for the rotated x-axis labels and legend\n",
    "# plt.show()"
   ]
  },
  {
   "cell_type": "code",
   "execution_count": 533,
   "metadata": {},
   "outputs": [
    {
     "name": "stdout",
     "output_type": "stream",
     "text": [
      "CryoSleep\n",
      "False    0.029936\n",
      "True     0.006054\n",
      "Name: VIP, dtype: object\n"
     ]
    }
   ],
   "source": [
    "# checking cryo VIP dependencies\n",
    "vip_cryo = all_df.groupby(['CryoSleep'])['VIP'].mean()\n",
    "print(vip_cryo)"
   ]
  },
  {
   "cell_type": "code",
   "execution_count": 534,
   "metadata": {},
   "outputs": [],
   "source": [
    "# Impute nans\n",
    "vip_column = ['VIP']\n",
    "cryo = (all_df['CryoSleep'] == 1)\n",
    "all_df.loc[cryo, vip_column] = all_df.loc[cryo, vip_column].fillna(0)"
   ]
  },
  {
   "cell_type": "markdown",
   "metadata": {},
   "source": [
    "Spending Nans"
   ]
  },
  {
   "cell_type": "code",
   "execution_count": 535,
   "metadata": {},
   "outputs": [],
   "source": [
    "def plot_spending_relationships_categorical(df, category_column, spending_categories):\n",
    "    # Melt the DataFrame to make it suitable for sns.catplot\n",
    "    melted_df = df.melt(id_vars=[category_column], value_vars=spending_categories,\n",
    "                        var_name='SpendingCategory', value_name='AmountSpent')\n",
    "    \n",
    "    # Plotting\n",
    "    sns.catplot(x='SpendingCategory', y='AmountSpent', hue=category_column, kind='bar', data=melted_df, height=6, aspect=2)\n",
    "    plt.title(f'Spending in Various Categories Based on {category_column} Status')\n",
    "    plt.xticks(rotation=45)\n",
    "    plt.show()"
   ]
  },
  {
   "cell_type": "code",
   "execution_count": 536,
   "metadata": {},
   "outputs": [],
   "source": [
    "# cryo versus amount spent in all spenidng categories\n",
    "# plot_spending_relationships_categorical(all_df, 'CryoSleep', ['RoomService', 'FoodCourt', 'ShoppingMall', 'Spa', 'VRDeck'])"
   ]
  },
  {
   "cell_type": "code",
   "execution_count": 537,
   "metadata": {},
   "outputs": [],
   "source": [
    "# HomePlanet and spending\n",
    "# plot_spending_relationships_categorical(all_df, 'HomePlanet', ['RoomService', 'FoodCourt', 'ShoppingMall', 'Spa', 'VRDeck'])"
   ]
  },
  {
   "cell_type": "code",
   "execution_count": 538,
   "metadata": {},
   "outputs": [],
   "source": [
    "# Impute nans\n",
    "spending_columns = ['RoomService', 'FoodCourt', 'ShoppingMall', 'Spa', 'VRDeck']\n",
    "cryo = (all_df['CryoSleep'] == 1)\n",
    "all_df.loc[cryo, spending_columns] = all_df.loc[cryo, spending_columns].fillna(0)"
   ]
  },
  {
   "cell_type": "code",
   "execution_count": 539,
   "metadata": {},
   "outputs": [],
   "source": [
    "# checking age cuttoff for spending\n",
    "all_copy = all_df.copy()\n",
    "all_copy['TotalSpend'] = all_copy['RoomService'] + all_copy['FoodCourt'] + all_copy['ShoppingMall'] + all_copy['Spa'] + all_copy['VRDeck']\n",
    "all_copy.head()\n",
    "age_spending = all_copy.groupby(['Age'])['TotalSpend'].mean()\n",
    "# age_spending.head(18)"
   ]
  },
  {
   "cell_type": "code",
   "execution_count": 540,
   "metadata": {},
   "outputs": [],
   "source": [
    "# imputing spending for underaged\n",
    "spending_columns = ['RoomService', 'FoodCourt', 'ShoppingMall', 'Spa', 'VRDeck']\n",
    "under_aged = (all_df['Age'] < 13)\n",
    "all_df.loc[under_aged, spending_columns] = all_df.loc[under_aged, spending_columns].fillna(0)"
   ]
  },
  {
   "cell_type": "markdown",
   "metadata": {},
   "source": [
    "Age Nans"
   ]
  },
  {
   "cell_type": "code",
   "execution_count": 541,
   "metadata": {},
   "outputs": [],
   "source": [
    "# PUT IN AGE REGRESSION\n",
    "\n",
    "# temp_df = all_df.copy()\n",
    "# true_cond = (temp_df['TotalSpend'] == 0) & (temp_df['CryoSleep'] == 0)\n",
    "# temp_df = temp_df[true_cond]\n",
    "# temp_df.groupby(['Age']).nunique()\n"
   ]
  },
  {
   "cell_type": "markdown",
   "metadata": {},
   "source": [
    "Smart Impuation"
   ]
  },
  {
   "cell_type": "code",
   "execution_count": 542,
   "metadata": {},
   "outputs": [],
   "source": [
    "# Categorical\n",
    "def impute_with_classification_and_evaluate(df, feature_names, target_name):\n",
    "    # Copy the DataFrame to avoid changing the original data\n",
    "    df_copy = df.copy()\n",
    "    df_copy_2 = df.copy()\n",
    "    df_copy = df_copy[feature_names]\n",
    "    df_copy[target_name] = df_copy_2[target_name]\n",
    "    \n",
    "    # Identify specified categorical features for encoding\n",
    "    categorical_features = [col for col in feature_names if col in df_copy.select_dtypes(include=['object']).columns]\n",
    "    \n",
    "    # Encode specified categorical features\n",
    "    encoder = OneHotEncoder(handle_unknown='ignore')\n",
    "    encoded_features = encoder.fit_transform(df_copy[categorical_features]).toarray()\n",
    "    encoded_df = pd.DataFrame(encoded_features, index=df_copy.index, columns=encoder.get_feature_names_out(categorical_features))\n",
    "    \n",
    "    # Drop the original categorical columns from df_copy\n",
    "    df_copy = df_copy.drop(columns=categorical_features)\n",
    "    \n",
    "    # Combine the encoded features with the rest of the data\n",
    "    # Ensure we only add back the encoded columns that were specified in feature_names\n",
    "    df_copy = pd.concat([df_copy, encoded_df], axis=1)\n",
    "    \n",
    "    # Rest of the function remains the same\n",
    "    # Split the data into rows with known and unknown target values\n",
    "    known_target = df_copy.dropna(subset=[target_name])\n",
    "    unknown_target = df_copy[df_copy[target_name].isnull()]\n",
    "    \n",
    "    X_known = known_target.drop(columns=[target_name])\n",
    "    y_known = known_target[target_name]\n",
    "    \n",
    "    # Ensure the target variable is appropriate for classification\n",
    "    # Check and convert y_known to categorical if it's not already\n",
    "    if not pd.api.types.is_categorical_dtype(y_known):\n",
    "        y_known = y_known.astype('category')\n",
    "\n",
    "    # Now check for NaN values in y_known - this should be empty given your current logic\n",
    "    if y_known.isnull().any():\n",
    "        raise ValueError(\"y_known contains NaN values, which is not supported for classification tasks.\")\n",
    "    \n",
    "    # Split the data into training and testing sets\n",
    "    X_train, X_test, y_train, y_test = train_test_split(X_known, y_known, test_size=0.2, random_state=42)\n",
    "    \n",
    "    # Now we proceed with creating and training the RandomForestClassifier\n",
    "    classifier = RandomForestClassifier(random_state=42)\n",
    "    classifier.fit(X_train, y_train)\n",
    "    \n",
    "    y_pred_test = classifier.predict(X_test)\n",
    "    accuracy = accuracy_score(y_test, y_pred_test)\n",
    "    print(f\"Accuracy on {target_name}: {accuracy}\")\n",
    "    \n",
    "    classifier.fit(X_known, y_known)\n",
    "    \n",
    "    X_unknown = unknown_target.drop(columns=[target_name])\n",
    "    predicted_values = classifier.predict(X_unknown)\n",
    "    \n",
    "    df.loc[df[target_name].isnull(), target_name] = predicted_values\n",
    "\n",
    "    return df"
   ]
  },
  {
   "cell_type": "code",
   "execution_count": 543,
   "metadata": {},
   "outputs": [],
   "source": [
    "# Numeric\n",
    "def impute_with_regression_and_evaluate(df, feature_names, target_name):\n",
    "    # Copy the DataFrame to avoid changing the original data\n",
    "    df_copy = df.copy()\n",
    "    \n",
    "    # Identify categorical features for encoding\n",
    "    categorical_features = df_copy[feature_names].select_dtypes(include=['object', 'bool']).columns.tolist()\n",
    "    \n",
    "    # Encode categorical features\n",
    "    encoder = OneHotEncoder(handle_unknown='ignore')\n",
    "    encoded_features = encoder.fit_transform(df_copy[categorical_features]).toarray()\n",
    "    encoded_df = pd.DataFrame(encoded_features, columns=encoder.get_feature_names_out(categorical_features))\n",
    "    \n",
    "    # Combine the encoded features with the rest of the data\n",
    "    df_copy = pd.concat([df_copy.drop(columns=categorical_features), encoded_df], axis=1)\n",
    "    \n",
    "    # Split the data into rows with known and unknown target values\n",
    "    known_target = df_copy.dropna(subset=[target_name])\n",
    "    unknown_target = df_copy[df_copy[target_name].isnull()]\n",
    "    \n",
    "    # Further split known target data into training and testing sets for model evaluation\n",
    "    X_known = known_target[encoder.get_feature_names_out(categorical_features)]\n",
    "    y_known = known_target[target_name]\n",
    "    X_train, X_test, y_train, y_test = train_test_split(X_known, y_known, test_size=0.2, random_state=42)\n",
    "    \n",
    "    # Train the linear regression model on the training set\n",
    "    model = LinearRegression()\n",
    "    model.fit(X_train, y_train)\n",
    "    \n",
    "    # Predict target for the test set and calculate RMSE for evaluation\n",
    "    y_pred_test = model.predict(X_test)\n",
    "    rmse = sqrt(mean_squared_error(y_test, y_pred_test))\n",
    "    print(f\"RMSE for {target_name}: {rmse}\")\n",
    "    \n",
    "    # Retrain the model on all known data\n",
    "    model.fit(X_known, y_known)\n",
    "    \n",
    "    # Predict target for rows where it's unknown\n",
    "    X_unknown = unknown_target[encoder.get_feature_names_out(categorical_features)]\n",
    "    predicted_values = model.predict(X_unknown)\n",
    "    \n",
    "    # Fill in the missing values with the predictions\n",
    "    df.loc[df[target_name].isnull(), target_name] = predicted_values\n",
    "\n",
    "    return df"
   ]
  },
  {
   "cell_type": "code",
   "execution_count": 544,
   "metadata": {},
   "outputs": [
    {
     "name": "stdout",
     "output_type": "stream",
     "text": [
      "RMSE for RoomService: 630.8526853349908\n",
      "RMSE for FoodCourt: 1390.9741362283664\n",
      "RMSE for ShoppingMall: 485.6174773953515\n"
     ]
    },
    {
     "name": "stdout",
     "output_type": "stream",
     "text": [
      "RMSE for VRDeck: 1139.5093768469744\n",
      "RMSE for Spa: 1105.9400249929001\n",
      "RMSE for Age: 13.90810743036368\n",
      "Accuracy on CryoSleep: 0.9130266718206417\n",
      "Accuracy on HomePlanet: 0.9417927823050058\n",
      "Accuracy on Deck: 0.5921155347384855\n",
      "Accuracy on Side: 0.7103825136612022\n",
      "Accuracy on Room_Number: 0.3321623731459797\n",
      "Accuracy on Destination: 0.581496062992126\n",
      "Accuracy on VIP: 0.9724912824486633\n"
     ]
    }
   ],
   "source": [
    "# Spendings\n",
    "#-------------------------------------------------------------------------------------------------------------------------------\n",
    "# RoomService\n",
    "all_df = impute_with_regression_and_evaluate(all_df, ['HomePlanet', 'Deck', 'VIP', 'Destination', 'TotalSpend'], 'RoomService')\n",
    "# FoodCourt\n",
    "all_df = impute_with_regression_and_evaluate(all_df, ['HomePlanet', 'Deck', 'VIP', 'Destination'], 'FoodCourt')\n",
    "# ShoppingMall\n",
    "all_df = impute_with_regression_and_evaluate(all_df, ['HomePlanet', 'Deck', 'VIP', 'Destination'], 'ShoppingMall')\n",
    "# VRDeck\n",
    "all_df = impute_with_regression_and_evaluate(all_df, ['HomePlanet', 'Deck', 'VIP', 'Destination'], 'VRDeck')\n",
    "# Spa\n",
    "all_df = impute_with_regression_and_evaluate(all_df, ['HomePlanet', 'Deck', 'VIP', 'Destination'], 'Spa')\n",
    "#-------------------------------------------------------------------------------------------------------------------------------\n",
    "# Age\n",
    "all_df = impute_with_regression_and_evaluate(all_df, ['HomePlanet', 'Deck', 'VIP', 'Destination', 'CryoSleep', 'TotalSpend'], 'Age')\n",
    "#-------------------------------------------------------------------------------------------------------------------------------\n",
    "# CryoSleep\n",
    "all_df = impute_with_classification_and_evaluate(all_df, ['HomePlanet', 'Deck', 'VIP', 'Destination', 'TotalSpend'], 'CryoSleep')\n",
    "#-------------------------------------------------------------------------------------------------------------------------------\n",
    "# HomePlanet\n",
    "all_df = impute_with_classification_and_evaluate(all_df, ['GroupId', 'Deck', 'VIP', 'Destination', 'RoomService', 'TotalSpend', 'VRDeck', 'Spa', 'ShoppingMall', 'FoodCourt'], 'HomePlanet')\n",
    "#-------------------------------------------------------------------------------------------------------------------------------\n",
    "# Deck\n",
    "all_df = impute_with_classification_and_evaluate(all_df, ['GroupId', 'VIP', 'RoomService', 'TotalSpend', 'VRDeck', 'Spa', 'ShoppingMall', 'FoodCourt'], 'Deck')\n",
    "#-------------------------------------------------------------------------------------------------------------------------------\n",
    "# Side\n",
    "all_df = impute_with_classification_and_evaluate(all_df, ['GroupId'], 'Side')\n",
    "#-------------------------------------------------------------------------------------------------------------------------------\n",
    "# # Room_Number\n",
    "all_df = impute_with_classification_and_evaluate(all_df, ['GroupId'], 'Room_Number')\n",
    "#-------------------------------------------------------------------------------------------------------------------------------\n",
    "# Destination\n",
    "all_df = impute_with_classification_and_evaluate(all_df, ['GroupId', 'HomePlanet'], 'Destination')\n",
    "#-------------------------------------------------------------------------------------------------------------------------------\n",
    "# VIP\n",
    "all_df = impute_with_classification_and_evaluate(all_df, ['GroupId', 'Room_Number', 'Deck', 'TotalSpend', 'RoomService', 'TotalSpend', 'VRDeck', 'Spa', 'ShoppingMall', 'FoodCourt'], 'VIP')\n",
    "\n"
   ]
  },
  {
   "cell_type": "code",
   "execution_count": null,
   "metadata": {},
   "outputs": [],
   "source": [
    "# Cuurent missing values\n",
    "all_df.isna().sum()"
   ]
  },
  {
   "cell_type": "markdown",
   "metadata": {},
   "source": [
    "# Data Encoding"
   ]
  },
  {
   "cell_type": "code",
   "execution_count": 545,
   "metadata": {},
   "outputs": [
    {
     "data": {
      "text/plain": [
       "Index(['HomePlanet', 'CryoSleep', 'Destination', 'VIP', 'Deck', 'Side'], dtype='object')"
      ]
     },
     "execution_count": 545,
     "metadata": {},
     "output_type": "execute_result"
    }
   ],
   "source": [
    "#Break all_data into categorical and numerical dataframes\n",
    "categorical_df = all_df.select_dtypes(include=['object', 'bool'])\n",
    "numerical_df = all_df.select_dtypes(include=['int64', 'float64'])\n",
    "\n",
    "##Remove Name and Room_Number from categorical_df\n",
    "categorical_df = categorical_df.drop(columns=['Name', 'Room_Number'])\n",
    "\n",
    "categorical_df.columns"
   ]
  },
  {
   "cell_type": "code",
   "execution_count": 546,
   "metadata": {},
   "outputs": [],
   "source": [
    "# Join target to the data frame\n",
    "categorical_with_target_df = categorical_df.copy()\n",
    "categorical_with_target_df['Transported'] = target"
   ]
  },
  {
   "cell_type": "code",
   "execution_count": 547,
   "metadata": {},
   "outputs": [],
   "source": [
    "def get_ordered_category(category_name):\n",
    "    mean_prices = categorical_with_target_df.groupby(category_name)['Transported'].mean()\n",
    "    category_mean_dict = mean_prices.to_dict()\n",
    "    sorted_categories = sorted(category_mean_dict, key=category_mean_dict.get)\n",
    "    return sorted_categories"
   ]
  },
  {
   "cell_type": "code",
   "execution_count": 548,
   "metadata": {},
   "outputs": [
    {
     "data": {
      "text/html": [
       "<div>\n",
       "<style scoped>\n",
       "    .dataframe tbody tr th:only-of-type {\n",
       "        vertical-align: middle;\n",
       "    }\n",
       "\n",
       "    .dataframe tbody tr th {\n",
       "        vertical-align: top;\n",
       "    }\n",
       "\n",
       "    .dataframe thead th {\n",
       "        text-align: right;\n",
       "    }\n",
       "</style>\n",
       "<table border=\"1\" class=\"dataframe\">\n",
       "  <thead>\n",
       "    <tr style=\"text-align: right;\">\n",
       "      <th></th>\n",
       "      <th>HomePlanet</th>\n",
       "      <th>CryoSleep</th>\n",
       "      <th>Destination</th>\n",
       "      <th>VIP</th>\n",
       "      <th>Deck</th>\n",
       "      <th>Side</th>\n",
       "    </tr>\n",
       "  </thead>\n",
       "  <tbody>\n",
       "    <tr>\n",
       "      <th>0</th>\n",
       "      <td>2.0</td>\n",
       "      <td>0.0</td>\n",
       "      <td>0.0</td>\n",
       "      <td>1.0</td>\n",
       "      <td>7.0</td>\n",
       "      <td>0.0</td>\n",
       "    </tr>\n",
       "    <tr>\n",
       "      <th>1</th>\n",
       "      <td>0.0</td>\n",
       "      <td>0.0</td>\n",
       "      <td>0.0</td>\n",
       "      <td>1.0</td>\n",
       "      <td>3.0</td>\n",
       "      <td>1.0</td>\n",
       "    </tr>\n",
       "    <tr>\n",
       "      <th>2</th>\n",
       "      <td>2.0</td>\n",
       "      <td>0.0</td>\n",
       "      <td>0.0</td>\n",
       "      <td>0.0</td>\n",
       "      <td>4.0</td>\n",
       "      <td>1.0</td>\n",
       "    </tr>\n",
       "    <tr>\n",
       "      <th>3</th>\n",
       "      <td>2.0</td>\n",
       "      <td>0.0</td>\n",
       "      <td>0.0</td>\n",
       "      <td>1.0</td>\n",
       "      <td>4.0</td>\n",
       "      <td>1.0</td>\n",
       "    </tr>\n",
       "    <tr>\n",
       "      <th>4</th>\n",
       "      <td>0.0</td>\n",
       "      <td>0.0</td>\n",
       "      <td>0.0</td>\n",
       "      <td>1.0</td>\n",
       "      <td>3.0</td>\n",
       "      <td>1.0</td>\n",
       "    </tr>\n",
       "  </tbody>\n",
       "</table>\n",
       "</div>"
      ],
      "text/plain": [
       "   HomePlanet  CryoSleep  Destination  VIP  Deck  Side\n",
       "0         2.0        0.0          0.0  1.0   7.0   0.0\n",
       "1         0.0        0.0          0.0  1.0   3.0   1.0\n",
       "2         2.0        0.0          0.0  0.0   4.0   1.0\n",
       "3         2.0        0.0          0.0  1.0   4.0   1.0\n",
       "4         0.0        0.0          0.0  1.0   3.0   1.0"
      ]
     },
     "execution_count": 548,
     "metadata": {},
     "output_type": "execute_result"
    }
   ],
   "source": [
    "categorical_cols = categorical_df.columns\n",
    "column_transformer = ColumnTransformer(transformers=[])\n",
    "\n",
    "# Create a list to store the ordered catogories for each column\n",
    "ordered_categories_list = []\n",
    "\n",
    "for col in categorical_cols:\n",
    "    ordered_categories = get_ordered_category(col)\n",
    "    ordered_categories_list.append(ordered_categories)\n",
    "    ode_pipeline = Pipeline(steps=[\n",
    "        ('ode', OrdinalEncoder(handle_unknown='use_encoded_value', unknown_value=-1, categories=[ordered_categories]))\n",
    "    ])\n",
    "\n",
    "    column_transformer.transformers.append((col, ode_pipeline, [col]))\n",
    "\n",
    "# Fit and transform the ColumnTransformer on the entire DataFrame\n",
    "categorical_df_encoded = column_transformer.fit_transform(categorical_df)\n",
    "\n",
    "# Convert the result back to a DataFrame with the original column names\n",
    "categorical_df_encoded = pd.DataFrame(categorical_df_encoded, columns=categorical_cols)\n",
    "\n",
    "categorical_df_encoded.head()"
   ]
  },
  {
   "cell_type": "code",
   "execution_count": 549,
   "metadata": {},
   "outputs": [
    {
     "data": {
      "image/png": "[encoded data removed]",
      "text/plain": [
       "<Figure size 1800x1000 with 6 Axes>"
      ]
     },
     "metadata": {},
     "output_type": "display_data"
    }
   ],
   "source": [
    "import matplotlib.pyplot as plt\n",
    "\n",
    "num_categorical_columns = len(categorical_df_encoded.columns)\n",
    "n_cols = 3\n",
    "n_rows = num_categorical_columns // n_cols + (num_categorical_columns % n_cols > 0)\n",
    "\n",
    "# Create a subplot grid\n",
    "fig, axes = plt.subplots(n_rows, n_cols, figsize=(n_cols * 6, n_rows * 5))\n",
    "\n",
    "# Flatten the axes array for easy iteration\n",
    "axes = axes.flatten()\n",
    "\n",
    "categorical_df_encoded_plot = categorical_df_encoded.copy()\n",
    "categorical_df_encoded_plot['Transported'] = target\n",
    "\n",
    "for i, column in enumerate(categorical_df_encoded.columns):\n",
    "    ax = axes[i]\n",
    "\n",
    "    # Calculate the percentage of each class per category value\n",
    "    class_proportions = categorical_df_encoded_plot.groupby(column)[\"Transported\"].value_counts(normalize=True).unstack().fillna(0)\n",
    "    sorted_proportions = class_proportions.sort_values(by=True)\n",
    "\n",
    "    # Plot the sorted DataFrame in the ith subplot\n",
    "    sorted_proportions.plot(kind='bar', stacked=True, ax=ax)\n",
    "    ax.set_title('Proportion of Transported by ' + column)\n",
    "    ax.set_xlabel('Category')\n",
    "    ax.set_ylabel('Proportion')\n",
    "    ax.legend(title='Transported')\n",
    "\n",
    "# If there are subplots that are empty (when num of plots is not a multiple of n_cols), hide them\n",
    "for j in range(i+1, len(axes)):\n",
    "    fig.delaxes(axes[j])\n",
    "\n",
    "# Adjust the layout and display the figure\n",
    "plt.tight_layout()\n",
    "plt.show()\n"
   ]
  },
  {
   "cell_type": "markdown",
   "metadata": {},
   "source": [
    "# Random Forest"
   ]
  },
  {
   "cell_type": "code",
   "execution_count": 550,
   "metadata": {},
   "outputs": [],
   "source": [
    "# Custom transformer to convert all data to strings\n",
    "class ConvertToString(BaseEstimator, TransformerMixin):\n",
    "    def fit(self, X, y=None):\n",
    "        return self\n",
    "    \n",
    "    def transform(self, X, y=None):\n",
    "        return X.astype(str)"
   ]
  },
  {
   "cell_type": "code",
   "execution_count": 551,
   "metadata": {},
   "outputs": [],
   "source": [
    "new_train_df, new_test_df = get_seperate_dataframes(all_df)\n",
    "\n",
    "# Identify categorical and numerical columns\n",
    "numerical_features = ['Room_Number', 'Age', 'RoomService', 'FoodCourt','ShoppingMall','Spa','VRDeck']\n",
    "categorical_features = ['HomePlanet','CryoSleep','Destination','VIP','Deck', 'Side']\n",
    "\n",
    "# Preprocessing for numerical data: impute missing values with 0\n",
    "numerical_transformer = Pipeline(steps=[\n",
    "    ('imputer', SimpleImputer(strategy='constant', fill_value=0)), # could be mean\n",
    "    ('scaler', StandardScaler())  # Standardize features by removing the mean and scaling to unit variance\n",
    "])\n",
    "\n",
    "# Update the categorical_transformer to include ConvertToString\n",
    "categorical_transformer = Pipeline(steps=[\n",
    "    ('convert_to_string', ConvertToString()),  # Convert all data to strings\n",
    "    ('imputer', SimpleImputer(strategy='constant', fill_value='missing')), # could be changed to most frequent\n",
    "    ('onehot', OneHotEncoder(handle_unknown='ignore'))\n",
    "])\n",
    "\n",
    "# Bundle preprocessing for numerical and categorical data\n",
    "preprocessor = ColumnTransformer(\n",
    "    transformers=[\n",
    "        ('num', numerical_transformer, numerical_features),\n",
    "        ('cat', categorical_transformer, categorical_features)\n",
    "    ])"
   ]
  },
  {
   "cell_type": "code",
   "execution_count": 552,
   "metadata": {},
   "outputs": [
    {
     "name": "stdout",
     "output_type": "stream",
     "text": [
      "Accuracy on validation set: 0.7941345600920069\n",
      "\n",
      "Classification Report for validation set:\n",
      "               precision    recall  f1-score   support\n",
      "\n",
      "       False       0.78      0.81      0.80       861\n",
      "        True       0.81      0.77      0.79       878\n",
      "\n",
      "    accuracy                           0.79      1739\n",
      "   macro avg       0.79      0.79      0.79      1739\n",
      "weighted avg       0.79      0.79      0.79      1739\n",
      "\n"
     ]
    }
   ],
   "source": [
    "# Define the model\n",
    "model = Pipeline(steps=[\n",
    "    ('preprocessor', preprocessor),\n",
    "    ('classifier', RandomForestClassifier(n_estimators=100, random_state=42))\n",
    "])\n",
    "\n",
    "# Split the dataset\n",
    "X_train, X_val, y_train, y_val = train_test_split(new_train_df, target, test_size=0.2, random_state=42)\n",
    "\n",
    "# Fit the model\n",
    "model.fit(X_train, y_train)\n",
    "\n",
    "# Predict and evaluate the model\n",
    "y_val_pred = model.predict(X_val)\n",
    "print(\"Accuracy on validation set:\", accuracy_score(y_val, y_val_pred))\n",
    "print(\"\\nClassification Report for validation set:\\n\", classification_report(y_val, y_val_pred))"
   ]
  },
  {
   "cell_type": "markdown",
   "metadata": {},
   "source": [
    "# GBM"
   ]
  },
  {
   "cell_type": "code",
   "execution_count": 559,
   "metadata": {},
   "outputs": [],
   "source": [
    "SEED = 15\n",
    "\n",
    "# Fit data to preprocessor, and clean the data, rename columns to correct names afterwards\n",
    "transformed_data_train = preprocessor.fit_transform(new_train_df)\n",
    "transformed_data_test = preprocessor.transform(new_test_df)\n",
    "\n",
    "feature_names = preprocessor.named_transformers_['cat'] \\\n",
    "    .named_steps['onehot'].get_feature_names_out(input_features=categorical_features) \n",
    "\n",
    "all_feature_names = numerical_features + list(feature_names)\n",
    "\n",
    "# Turns data into dataframes\n",
    "transformed_train_df = pd.DataFrame(transformed_data_train, columns = all_feature_names)\n",
    "transformed_test_df = pd.DataFrame(transformed_data_test, columns = all_feature_names)"
   ]
  },
  {
   "cell_type": "code",
   "execution_count": 560,
   "metadata": {},
   "outputs": [],
   "source": [
    "from sklearn.ensemble import RandomForestClassifier, GradientBoostingClassifier\n",
    "from sklearn.linear_model import LogisticRegression\n",
    "\n",
    "# better model overall, performed better on data with less overfitting\n",
    "#forest_model = RandomForestClassifier(criterion='gini', n_estimators=70, max_depth=5, min_samples_split=2, min_samples_leaf=2,\n",
    "#                                       max_features='sqrt', random_state=SEED)\n",
    "\n",
    "# First GBM Model\n",
    "gbm_model_1 = GradientBoostingClassifier(n_estimators=70, learning_rate=0.1, max_features='sqrt', max_depth=5, random_state=SEED, \n",
    "                                        min_samples_split=2, min_samples_leaf=3, loss='exponential', subsample=0.5)\n",
    "\n",
    "# Second GBM Model\n",
    "gbm_model_2 = GradientBoostingClassifier(n_estimators=70, learning_rate=0.1, max_features='log2', max_depth=5, random_state=SEED, \n",
    "                                        min_samples_split=2, min_samples_leaf=3, subsample=0.5, loss='log_loss')\n",
    "\n",
    "# Third GBM Model\n",
    "gbm_model_3 = GradientBoostingClassifier(n_estimators=70, learning_rate=0.1, max_features='log2', max_depth=5, random_state=SEED, \n",
    "                                        min_samples_split=2, min_samples_leaf=3, subsample=0.5, loss='exponential')\n",
    "\n",
    "X_train, X_test, y_train, y_test = train_test_split(transformed_train_df, target, test_size=0.2, random_state=SEED)"
   ]
  },
  {
   "cell_type": "code",
   "execution_count": 561,
   "metadata": {},
   "outputs": [
    {
     "name": "stdout",
     "output_type": "stream",
     "text": [
      "Ensemble Accuracy: 0.8073605520414031\n"
     ]
    }
   ],
   "source": [
    "# Fit both models\n",
    "gbm_model_1.fit(X_train, y_train)\n",
    "gbm_model_2.fit(X_train, y_train)\n",
    "gbm_model_3.fit(X_train, y_train)\n",
    "\n",
    "# Run through predictions initially to train the Logistic Regression for predicting\n",
    "gbm_1_predictions = gbm_model_1.predict(X_test)\n",
    "gbm_2_predictions = gbm_model_2.predict(X_test)\n",
    "gbm_3_predictions = gbm_model_3.predict(X_test)\n",
    "\n",
    "\n",
    "# Stack both predictions to form a training set for the Logistic Regression\n",
    "stacked_features = np.column_stack((gbm_1_predictions, gbm_2_predictions, gbm_3_predictions))\n",
    "\n",
    "# Fit the meta model to stacked features\n",
    "meta_model = LogisticRegression()\n",
    "meta_model.fit(stacked_features, y_test)\n",
    "\n",
    "# Predict yet again to get a new metric\n",
    "gbm_1_base_preds = gbm_model_1.predict(X_test)\n",
    "gbm_2_base_preds = gbm_model_2.predict(X_test)\n",
    "gbm_3_base_preds = gbm_model_3.predict(X_test)\n",
    "\n",
    "\n",
    "# Stack both predictions yet again\n",
    "stacked_base_preds = np.column_stack((gbm_1_base_preds, gbm_2_base_preds, gbm_3_base_preds))\n",
    "\n",
    "# Get final predictions to gauge overall performance\n",
    "ensemble_predictions = meta_model.predict(stacked_base_preds)\n",
    "\n",
    "# Score the predictions and print them\n",
    "ensemble_accuracy = accuracy_score(y_test, ensemble_predictions)\n",
    "print(\"Ensemble Accuracy:\", ensemble_accuracy)"
   ]
  },
  {
   "cell_type": "code",
   "execution_count": 562,
   "metadata": {},
   "outputs": [],
   "source": [
    "# Get new base predictions for actual test set\n",
    "gbm_1_base_preds = gbm_model_1.predict(transformed_test_df)\n",
    "gbm_2_base_preds = gbm_model_2.predict(transformed_test_df)\n",
    "gbm_3_base_preds = gbm_model_3.predict(transformed_test_df)\n",
    "\n",
    "# Combine both predictions for the meta model to predict\n",
    "stacked_base_preds = np.column_stack((gbm_1_base_preds, gbm_2_base_preds, gbm_3_base_preds))"
   ]
  },
  {
   "cell_type": "code",
   "execution_count": 563,
   "metadata": {},
   "outputs": [],
   "source": [
    "# Actually predict the final result\n",
    "ensemble_predictions = meta_model.predict(stacked_base_preds)"
   ]
  },
  {
   "cell_type": "code",
   "execution_count": 564,
   "metadata": {},
   "outputs": [
    {
     "name": "stdout",
     "output_type": "stream",
     "text": [
      "Submission Saved\n"
     ]
    }
   ],
   "source": [
    "output = pd.DataFrame({\n",
    "    'PassengerId' : test_ids,\n",
    "    'Transported' : ensemble_predictions\n",
    "})\n",
    "output.to_csv('submission_yay.csv', index=False)\n",
    "print('Submission Saved')"
   ]
  }
 ],
 "metadata": {
  "kernelspec": {
   "display_name": "Python 3",
   "language": "python",
   "name": "python3"
  },
  "language_info": {
   "codemirror_mode": {
    "name": "ipython",
    "version": 3
   },
   "file_extension": ".py",
   "mimetype": "text/x-python",
   "name": "python",
   "nbconvert_exporter": "python",
   "pygments_lexer": "ipython3",
   "version": "3.11.4"
  }
 },
 "nbformat": 4,
 "nbformat_minor": 2
}
